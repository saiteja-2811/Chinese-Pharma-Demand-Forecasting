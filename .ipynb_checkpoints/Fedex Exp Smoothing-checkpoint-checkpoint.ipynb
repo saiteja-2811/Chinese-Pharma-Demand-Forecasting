{
 "cells": [
  {
   "cell_type": "markdown",
   "id": "supposed-title",
   "metadata": {
    "toc": true
   },
   "source": [
    "<h1>Table of Contents<span class=\"tocSkip\"></span></h1>\n",
    "<div class=\"toc\"><ul class=\"toc-item\"><li><span><a href=\"#Import-Data\" data-toc-modified-id=\"Import-Data-1\"><span class=\"toc-item-num\">1&nbsp;&nbsp;</span>Import Data</a></span></li><li><span><a href=\"#Data-Partition\" data-toc-modified-id=\"Data-Partition-2\"><span class=\"toc-item-num\">2&nbsp;&nbsp;</span>Data Partition</a></span></li><li><span><a href=\"#Simple-Exp-Model\" data-toc-modified-id=\"Simple-Exp-Model-3\"><span class=\"toc-item-num\">3&nbsp;&nbsp;</span>Simple Exp Model</a></span><ul class=\"toc-item\"><li><span><a href=\"#Simple-Exp---Opti\" data-toc-modified-id=\"Simple-Exp---Opti-3.1\"><span class=\"toc-item-num\">3.1&nbsp;&nbsp;</span>Simple Exp - Opti</a></span></li></ul></li><li><span><a href=\"#Holt-Winters-Model\" data-toc-modified-id=\"Holt-Winters-Model-4\"><span class=\"toc-item-num\">4&nbsp;&nbsp;</span>Holt-Winters Model</a></span></li><li><span><a href=\"#ARIMA-Model\" data-toc-modified-id=\"ARIMA-Model-5\"><span class=\"toc-item-num\">5&nbsp;&nbsp;</span>ARIMA Model</a></span></li><li><span><a href=\"#All-Models-Summary\" data-toc-modified-id=\"All-Models-Summary-6\"><span class=\"toc-item-num\">6&nbsp;&nbsp;</span>All Models Summary</a></span></li></ul></div>"
   ]
  },
  {
   "cell_type": "markdown",
   "id": "suited-henry",
   "metadata": {},
   "source": [
    "# Import Data"
   ]
  },
  {
   "cell_type": "code",
   "execution_count": 1,
   "id": "binary-section",
   "metadata": {},
   "outputs": [
    {
     "data": {
      "text/html": [
       "<div>\n",
       "<style scoped>\n",
       "    .dataframe tbody tr th:only-of-type {\n",
       "        vertical-align: middle;\n",
       "    }\n",
       "\n",
       "    .dataframe tbody tr th {\n",
       "        vertical-align: top;\n",
       "    }\n",
       "\n",
       "    .dataframe thead th {\n",
       "        text-align: right;\n",
       "    }\n",
       "</style>\n",
       "<table border=\"1\" class=\"dataframe\">\n",
       "  <thead>\n",
       "    <tr style=\"text-align: right;\">\n",
       "      <th></th>\n",
       "      <th>MM-YY</th>\n",
       "      <th>Period</th>\n",
       "      <th>Sales</th>\n",
       "    </tr>\n",
       "  </thead>\n",
       "  <tbody>\n",
       "    <tr>\n",
       "      <th>31</th>\n",
       "      <td>Feb-12</td>\n",
       "      <td>32</td>\n",
       "      <td>9084</td>\n",
       "    </tr>\n",
       "    <tr>\n",
       "      <th>32</th>\n",
       "      <td>Mar-12</td>\n",
       "      <td>33</td>\n",
       "      <td>8955</td>\n",
       "    </tr>\n",
       "    <tr>\n",
       "      <th>33</th>\n",
       "      <td>Apr-12</td>\n",
       "      <td>34</td>\n",
       "      <td>8235</td>\n",
       "    </tr>\n",
       "    <tr>\n",
       "      <th>34</th>\n",
       "      <td>May-12</td>\n",
       "      <td>35</td>\n",
       "      <td>8055</td>\n",
       "    </tr>\n",
       "    <tr>\n",
       "      <th>35</th>\n",
       "      <td>Jun-12</td>\n",
       "      <td>36</td>\n",
       "      <td>7767</td>\n",
       "    </tr>\n",
       "  </tbody>\n",
       "</table>\n",
       "</div>"
      ],
      "text/plain": [
       "     MM-YY  Period  Sales\n",
       "31  Feb-12      32   9084\n",
       "32  Mar-12      33   8955\n",
       "33  Apr-12      34   8235\n",
       "34  May-12      35   8055\n",
       "35  Jun-12      36   7767"
      ]
     },
     "execution_count": 1,
     "metadata": {},
     "output_type": "execute_result"
    }
   ],
   "source": [
    "import pandas as pd \n",
    "import numpy as np \n",
    "import matplotlib.pyplot as plt\n",
    "import os\n",
    "import sklearn.metrics as mt\n",
    "from statsmodels.tsa.api import ExponentialSmoothing, SimpleExpSmoothing, Holt\n",
    "\n",
    "import warnings\n",
    "warnings.filterwarnings(\"ignore\")\n",
    "pd.set_option('display.max_columns', None)\n",
    "# Set the working directory\n",
    "os.chdir(\"C:/Users/saite/PycharmProjects/py38/0.GH/Chinese-Pharma-Demand-Forecasting/\")\n",
    "#Importing data\n",
    "df = pd.read_csv('Data/sales.csv')\n",
    "#Printing head\n",
    "df.tail()"
   ]
  },
  {
   "cell_type": "markdown",
   "id": "affiliated-atmosphere",
   "metadata": {},
   "source": [
    "# Data Partition"
   ]
  },
  {
   "cell_type": "code",
   "execution_count": 2,
   "id": "trained-rolling",
   "metadata": {},
   "outputs": [],
   "source": [
    "df['month'] = df['MM-YY'].str.split(\"-\",expand=True)[0]\n",
    "df['year'] = df['MM-YY'].str.split(\"-\",expand=True)[1].astype(int)+2000"
   ]
  },
  {
   "cell_type": "code",
   "execution_count": 3,
   "id": "surrounded-kitchen",
   "metadata": {},
   "outputs": [
    {
     "data": {
      "text/html": [
       "<div>\n",
       "<style scoped>\n",
       "    .dataframe tbody tr th:only-of-type {\n",
       "        vertical-align: middle;\n",
       "    }\n",
       "\n",
       "    .dataframe tbody tr th {\n",
       "        vertical-align: top;\n",
       "    }\n",
       "\n",
       "    .dataframe thead th {\n",
       "        text-align: right;\n",
       "    }\n",
       "</style>\n",
       "<table border=\"1\" class=\"dataframe\">\n",
       "  <thead>\n",
       "    <tr style=\"text-align: right;\">\n",
       "      <th></th>\n",
       "      <th>MM-YY</th>\n",
       "      <th>Period</th>\n",
       "      <th>Sales</th>\n",
       "      <th>month</th>\n",
       "      <th>year</th>\n",
       "    </tr>\n",
       "  </thead>\n",
       "  <tbody>\n",
       "    <tr>\n",
       "      <th>0</th>\n",
       "      <td>Jul-09</td>\n",
       "      <td>1</td>\n",
       "      <td>3303</td>\n",
       "      <td>Jul</td>\n",
       "      <td>2009</td>\n",
       "    </tr>\n",
       "    <tr>\n",
       "      <th>1</th>\n",
       "      <td>Aug-09</td>\n",
       "      <td>2</td>\n",
       "      <td>3360</td>\n",
       "      <td>Aug</td>\n",
       "      <td>2009</td>\n",
       "    </tr>\n",
       "    <tr>\n",
       "      <th>2</th>\n",
       "      <td>Sep-09</td>\n",
       "      <td>3</td>\n",
       "      <td>3828</td>\n",
       "      <td>Sep</td>\n",
       "      <td>2009</td>\n",
       "    </tr>\n",
       "    <tr>\n",
       "      <th>3</th>\n",
       "      <td>Oct-09</td>\n",
       "      <td>4</td>\n",
       "      <td>4257</td>\n",
       "      <td>Oct</td>\n",
       "      <td>2009</td>\n",
       "    </tr>\n",
       "    <tr>\n",
       "      <th>4</th>\n",
       "      <td>Nov-09</td>\n",
       "      <td>5</td>\n",
       "      <td>5508</td>\n",
       "      <td>Nov</td>\n",
       "      <td>2009</td>\n",
       "    </tr>\n",
       "  </tbody>\n",
       "</table>\n",
       "</div>"
      ],
      "text/plain": [
       "    MM-YY  Period  Sales month  year\n",
       "0  Jul-09       1   3303   Jul  2009\n",
       "1  Aug-09       2   3360   Aug  2009\n",
       "2  Sep-09       3   3828   Sep  2009\n",
       "3  Oct-09       4   4257   Oct  2009\n",
       "4  Nov-09       5   5508   Nov  2009"
      ]
     },
     "execution_count": 3,
     "metadata": {},
     "output_type": "execute_result"
    }
   ],
   "source": [
    "df.head()"
   ]
  },
  {
   "cell_type": "code",
   "execution_count": 4,
   "id": "based-setup",
   "metadata": {
    "scrolled": false
   },
   "outputs": [
    {
     "data": {
      "image/png": "[encoded data removed]",
      "text/plain": [
       "<Figure size 1080x576 with 1 Axes>"
      ]
     },
     "metadata": {
      "needs_background": "light"
     },
     "output_type": "display_data"
    }
   ],
   "source": [
    "plt.figure(figsize=(15, 8))\n",
    "plt.plot('MM-YY','Sales',data=df,marker=\"o\",color=\"green\")\n",
    "plt.xticks(np.arange(min(df.Period), max(df.Period)+1, 3.0))\n",
    "plt.show()"
   ]
  },
  {
   "cell_type": "code",
   "execution_count": 5,
   "id": "strong-painting",
   "metadata": {},
   "outputs": [],
   "source": [
    "# Split the data\n",
    "train = df[0:33]\n",
    "test = df[33:]"
   ]
  },
  {
   "cell_type": "code",
   "execution_count": 6,
   "id": "color-procedure",
   "metadata": {},
   "outputs": [
    {
     "data": {
      "text/html": [
       "<div>\n",
       "<style scoped>\n",
       "    .dataframe tbody tr th:only-of-type {\n",
       "        vertical-align: middle;\n",
       "    }\n",
       "\n",
       "    .dataframe tbody tr th {\n",
       "        vertical-align: top;\n",
       "    }\n",
       "\n",
       "    .dataframe thead th {\n",
       "        text-align: right;\n",
       "    }\n",
       "</style>\n",
       "<table border=\"1\" class=\"dataframe\">\n",
       "  <thead>\n",
       "    <tr style=\"text-align: right;\">\n",
       "      <th></th>\n",
       "      <th>MM-YY</th>\n",
       "      <th>Period</th>\n",
       "      <th>Sales</th>\n",
       "      <th>month</th>\n",
       "      <th>year</th>\n",
       "    </tr>\n",
       "  </thead>\n",
       "  <tbody>\n",
       "    <tr>\n",
       "      <th>28</th>\n",
       "      <td>Nov-11</td>\n",
       "      <td>29</td>\n",
       "      <td>9051</td>\n",
       "      <td>Nov</td>\n",
       "      <td>2011</td>\n",
       "    </tr>\n",
       "    <tr>\n",
       "      <th>29</th>\n",
       "      <td>Dec-11</td>\n",
       "      <td>30</td>\n",
       "      <td>9696</td>\n",
       "      <td>Dec</td>\n",
       "      <td>2011</td>\n",
       "    </tr>\n",
       "    <tr>\n",
       "      <th>30</th>\n",
       "      <td>Jan-12</td>\n",
       "      <td>31</td>\n",
       "      <td>9594</td>\n",
       "      <td>Jan</td>\n",
       "      <td>2012</td>\n",
       "    </tr>\n",
       "    <tr>\n",
       "      <th>31</th>\n",
       "      <td>Feb-12</td>\n",
       "      <td>32</td>\n",
       "      <td>9084</td>\n",
       "      <td>Feb</td>\n",
       "      <td>2012</td>\n",
       "    </tr>\n",
       "    <tr>\n",
       "      <th>32</th>\n",
       "      <td>Mar-12</td>\n",
       "      <td>33</td>\n",
       "      <td>8955</td>\n",
       "      <td>Mar</td>\n",
       "      <td>2012</td>\n",
       "    </tr>\n",
       "  </tbody>\n",
       "</table>\n",
       "</div>"
      ],
      "text/plain": [
       "     MM-YY  Period  Sales month  year\n",
       "28  Nov-11      29   9051   Nov  2011\n",
       "29  Dec-11      30   9696   Dec  2011\n",
       "30  Jan-12      31   9594   Jan  2012\n",
       "31  Feb-12      32   9084   Feb  2012\n",
       "32  Mar-12      33   8955   Mar  2012"
      ]
     },
     "execution_count": 6,
     "metadata": {},
     "output_type": "execute_result"
    }
   ],
   "source": [
    "train.tail()"
   ]
  },
  {
   "cell_type": "code",
   "execution_count": 7,
   "id": "timely-consent",
   "metadata": {},
   "outputs": [
    {
     "data": {
      "text/html": [
       "<div>\n",
       "<style scoped>\n",
       "    .dataframe tbody tr th:only-of-type {\n",
       "        vertical-align: middle;\n",
       "    }\n",
       "\n",
       "    .dataframe tbody tr th {\n",
       "        vertical-align: top;\n",
       "    }\n",
       "\n",
       "    .dataframe thead th {\n",
       "        text-align: right;\n",
       "    }\n",
       "</style>\n",
       "<table border=\"1\" class=\"dataframe\">\n",
       "  <thead>\n",
       "    <tr style=\"text-align: right;\">\n",
       "      <th></th>\n",
       "      <th>MM-YY</th>\n",
       "      <th>Period</th>\n",
       "      <th>Sales</th>\n",
       "      <th>month</th>\n",
       "      <th>year</th>\n",
       "    </tr>\n",
       "  </thead>\n",
       "  <tbody>\n",
       "    <tr>\n",
       "      <th>33</th>\n",
       "      <td>Apr-12</td>\n",
       "      <td>34</td>\n",
       "      <td>8235</td>\n",
       "      <td>Apr</td>\n",
       "      <td>2012</td>\n",
       "    </tr>\n",
       "    <tr>\n",
       "      <th>34</th>\n",
       "      <td>May-12</td>\n",
       "      <td>35</td>\n",
       "      <td>8055</td>\n",
       "      <td>May</td>\n",
       "      <td>2012</td>\n",
       "    </tr>\n",
       "    <tr>\n",
       "      <th>35</th>\n",
       "      <td>Jun-12</td>\n",
       "      <td>36</td>\n",
       "      <td>7767</td>\n",
       "      <td>Jun</td>\n",
       "      <td>2012</td>\n",
       "    </tr>\n",
       "  </tbody>\n",
       "</table>\n",
       "</div>"
      ],
      "text/plain": [
       "     MM-YY  Period  Sales month  year\n",
       "33  Apr-12      34   8235   Apr  2012\n",
       "34  May-12      35   8055   May  2012\n",
       "35  Jun-12      36   7767   Jun  2012"
      ]
     },
     "execution_count": 7,
     "metadata": {},
     "output_type": "execute_result"
    }
   ],
   "source": [
    "test.head()"
   ]
  },
  {
   "cell_type": "markdown",
   "id": "lesbian-birth",
   "metadata": {},
   "source": [
    "# Simple Exp Model"
   ]
  },
  {
   "cell_type": "code",
   "execution_count": 8,
   "id": "arbitrary-traffic",
   "metadata": {},
   "outputs": [
    {
     "data": {
      "text/plain": [
       "array([9029.78423143, 9029.78423143, 9029.78423143])"
      ]
     },
     "execution_count": 8,
     "metadata": {},
     "output_type": "execute_result"
    }
   ],
   "source": [
    "# forecast for 0.4\n",
    "yhat_test = test.copy()\n",
    "sexp_fit_p4 = SimpleExpSmoothing(np.asarray(train['Sales'])).fit(smoothing_level = 0.4,optimized=False)\n",
    "sexp_fit_p4.forecast(len(test))"
   ]
  },
  {
   "cell_type": "code",
   "execution_count": 9,
   "id": "radical-aggregate",
   "metadata": {},
   "outputs": [
    {
     "data": {
      "text/plain": [
       "array([8477.8837207, 8477.8837207, 8477.8837207])"
      ]
     },
     "execution_count": 9,
     "metadata": {},
     "output_type": "execute_result"
    }
   ],
   "source": [
    "# forecast for 0.2\n",
    "sexp_fit_p2 = SimpleExpSmoothing(np.asarray(train['Sales'])).fit(smoothing_level = 0.2,optimized=False)\n",
    "sexp_fit_p2.forecast(len(test))"
   ]
  },
  {
   "cell_type": "markdown",
   "id": "beautiful-frontier",
   "metadata": {},
   "source": [
    "## Simple Exp - Opti"
   ]
  },
  {
   "cell_type": "code",
   "execution_count": 10,
   "id": "opponent-implement",
   "metadata": {
    "scrolled": false
   },
   "outputs": [],
   "source": [
    "# Split the data\n",
    "train = df[0:33]\n",
    "test = df[33:]\n",
    "\n",
    "alphas = np.arange(0.1,0.9,0.015)\n",
    "\n",
    "metrics = pd.DataFrame(columns=['alpha','rmse','wape','trmse','twape'])\n",
    "\n",
    "for al in alphas:\n",
    "\n",
    "    sexp = SimpleExpSmoothing(np.asarray(train['Sales'])).fit(smoothing_level = al,optimized=False)\n",
    "    yhat_test['sexp'] = sexp.forecast(len(test))\n",
    "    \n",
    "    train_rmse = round(np.sqrt(mt.mean_squared_error(train.Sales[1:], sexp.fittedvalues[1:])),3)\n",
    "    train_wape = round((abs(train['Sales'][1:] - sexp.fittedvalues[1:]).sum())*100/(train['Sales'][1:].sum()),2)\n",
    "    \n",
    "    test_rmse = round(np.sqrt(mt.mean_squared_error(test.Sales, yhat_test.sexp)),3)\n",
    "    test_wape = round((abs(yhat_test['Sales'] - yhat_test['sexp']).sum())*100/(yhat_test['Sales'].sum()),2)\n",
    "\n",
    "    d = {'alpha':[al],\n",
    "         'rmse' : [train_rmse],\n",
    "         'wape' : [train_wape],\n",
    "         'trmse':[test_rmse],\n",
    "         'twape':[test_wape]}\n",
    "    mdf = pd.DataFrame(data=d)\n",
    "    metrics = pd.concat([metrics,mdf],axis=0)\n",
    "    \n",
    "metrics.reset_index(drop=True,inplace=True)"
   ]
  },
  {
   "cell_type": "code",
   "execution_count": 11,
   "id": "traditional-carry",
   "metadata": {},
   "outputs": [
    {
     "data": {
      "text/html": [
       "<div>\n",
       "<style scoped>\n",
       "    .dataframe tbody tr th:only-of-type {\n",
       "        vertical-align: middle;\n",
       "    }\n",
       "\n",
       "    .dataframe tbody tr th {\n",
       "        vertical-align: top;\n",
       "    }\n",
       "\n",
       "    .dataframe thead th {\n",
       "        text-align: right;\n",
       "    }\n",
       "</style>\n",
       "<table border=\"1\" class=\"dataframe\">\n",
       "  <thead>\n",
       "    <tr style=\"text-align: right;\">\n",
       "      <th></th>\n",
       "      <th>alpha</th>\n",
       "      <th>rmse</th>\n",
       "      <th>wape</th>\n",
       "      <th>trmse</th>\n",
       "      <th>twape</th>\n",
       "      <th>trdoff1</th>\n",
       "      <th>trdoff2</th>\n",
       "    </tr>\n",
       "  </thead>\n",
       "  <tbody>\n",
       "    <tr>\n",
       "      <th>16</th>\n",
       "      <td>0.340</td>\n",
       "      <td>937.980</td>\n",
       "      <td>12.20</td>\n",
       "      <td>951.887</td>\n",
       "      <td>11.62</td>\n",
       "      <td>13.907</td>\n",
       "      <td>0.58</td>\n",
       "    </tr>\n",
       "    <tr>\n",
       "      <th>17</th>\n",
       "      <td>0.355</td>\n",
       "      <td>921.302</td>\n",
       "      <td>11.96</td>\n",
       "      <td>975.863</td>\n",
       "      <td>11.93</td>\n",
       "      <td>54.561</td>\n",
       "      <td>0.03</td>\n",
       "    </tr>\n",
       "  </tbody>\n",
       "</table>\n",
       "</div>"
      ],
      "text/plain": [
       "    alpha     rmse   wape    trmse  twape  trdoff1  trdoff2\n",
       "16  0.340  937.980  12.20  951.887  11.62   13.907     0.58\n",
       "17  0.355  921.302  11.96  975.863  11.93   54.561     0.03"
      ]
     },
     "execution_count": 11,
     "metadata": {},
     "output_type": "execute_result"
    }
   ],
   "source": [
    "# Optimal Alpha\n",
    "metrics['trdoff1'] = abs(metrics.rmse - metrics.trmse)\n",
    "metrics['trdoff2'] = abs(metrics.wape - metrics.twape)\n",
    "t1_alpha = metrics.sort_values(by=['trdoff1']).iloc[0:1,:]\n",
    "t2_alpha = metrics.sort_values(by=['trdoff2']).iloc[0:1,:]\n",
    "pd.concat([t1_alpha,t2_alpha],axis=0)"
   ]
  },
  {
   "cell_type": "code",
   "execution_count": 12,
   "id": "blind-taxation",
   "metadata": {},
   "outputs": [
    {
     "data": {
      "image/png": "[encoded data removed]",
      "text/plain": [
       "<Figure size 432x288 with 1 Axes>"
      ]
     },
     "metadata": {
      "needs_background": "light"
     },
     "output_type": "display_data"
    }
   ],
   "source": [
    "plt.plot('alpha','rmse',data=metrics)\n",
    "plt.plot('alpha','trmse',data=metrics)\n",
    "plt.plot('alpha','rmse',data=t1_alpha,marker=\"o\",color=\"black\",markersize=12)\n",
    "plt.xlabel(\"Alpha\")\n",
    "plt.ylabel(\"RMSE\")\n",
    "plt.legend([\"Train\",\"Holdout\"])\n",
    "plt.title(\"Train vs Holdout RMSE for different alphas\")\n",
    "plt.show()"
   ]
  },
  {
   "cell_type": "code",
   "execution_count": 13,
   "id": "skilled-beauty",
   "metadata": {
    "scrolled": false
   },
   "outputs": [
    {
     "data": {
      "image/png": "[encoded data removed]",
      "text/plain": [
       "<Figure size 432x288 with 1 Axes>"
      ]
     },
     "metadata": {
      "needs_background": "light"
     },
     "output_type": "display_data"
    }
   ],
   "source": [
    "plt.plot('alpha','wape',data=metrics)\n",
    "plt.plot('alpha','twape',data=metrics)\n",
    "plt.plot('alpha','wape',data=t2_alpha,marker=\"o\",color=\"black\",markersize=12)\n",
    "plt.xlabel(\"Alpha\")\n",
    "plt.ylabel(\"WAPE\")\n",
    "plt.legend([\"Train\",\"Holdout\"])\n",
    "plt.title(\"Train vs Holdout WAPE for different alphas\")\n",
    "plt.show()"
   ]
  },
  {
   "cell_type": "code",
   "execution_count": 14,
   "id": "composite-logging",
   "metadata": {},
   "outputs": [
    {
     "data": {
      "text/html": [
       "<div>\n",
       "<style scoped>\n",
       "    .dataframe tbody tr th:only-of-type {\n",
       "        vertical-align: middle;\n",
       "    }\n",
       "\n",
       "    .dataframe tbody tr th {\n",
       "        vertical-align: top;\n",
       "    }\n",
       "\n",
       "    .dataframe thead th {\n",
       "        text-align: right;\n",
       "    }\n",
       "</style>\n",
       "<table border=\"1\" class=\"dataframe\">\n",
       "  <thead>\n",
       "    <tr style=\"text-align: right;\">\n",
       "      <th></th>\n",
       "      <th>MM-YY</th>\n",
       "      <th>Period</th>\n",
       "      <th>Sales</th>\n",
       "      <th>month</th>\n",
       "      <th>year</th>\n",
       "      <th>sexp</th>\n",
       "    </tr>\n",
       "  </thead>\n",
       "  <tbody>\n",
       "    <tr>\n",
       "      <th>33</th>\n",
       "      <td>Apr-12</td>\n",
       "      <td>34</td>\n",
       "      <td>8235</td>\n",
       "      <td>Apr</td>\n",
       "      <td>2012</td>\n",
       "      <td>8951.167903</td>\n",
       "    </tr>\n",
       "    <tr>\n",
       "      <th>34</th>\n",
       "      <td>May-12</td>\n",
       "      <td>35</td>\n",
       "      <td>8055</td>\n",
       "      <td>May</td>\n",
       "      <td>2012</td>\n",
       "      <td>8951.167903</td>\n",
       "    </tr>\n",
       "    <tr>\n",
       "      <th>35</th>\n",
       "      <td>Jun-12</td>\n",
       "      <td>36</td>\n",
       "      <td>7767</td>\n",
       "      <td>Jun</td>\n",
       "      <td>2012</td>\n",
       "      <td>8951.167903</td>\n",
       "    </tr>\n",
       "  </tbody>\n",
       "</table>\n",
       "</div>"
      ],
      "text/plain": [
       "     MM-YY  Period  Sales month  year         sexp\n",
       "33  Apr-12      34   8235   Apr  2012  8951.167903\n",
       "34  May-12      35   8055   May  2012  8951.167903\n",
       "35  Jun-12      36   7767   Jun  2012  8951.167903"
      ]
     },
     "execution_count": 14,
     "metadata": {},
     "output_type": "execute_result"
    }
   ],
   "source": [
    "# Best model for simple exponential\n",
    "sexp = SimpleExpSmoothing(np.asarray(train['Sales'])).fit(smoothing_level = 0.34,optimized=False)\n",
    "yhat_test['sexp'] = sexp.forecast(len(test))\n",
    "yhat_test"
   ]
  },
  {
   "cell_type": "markdown",
   "id": "wound-enemy",
   "metadata": {},
   "source": [
    "# Holt-Winters Model"
   ]
  },
  {
   "cell_type": "code",
   "execution_count": 15,
   "id": "intimate-arbor",
   "metadata": {},
   "outputs": [],
   "source": [
    "hwexp = ExponentialSmoothing(np.asarray(train['Sales']) ,seasonal_periods=12 ,trend='add', seasonal='add').fit()\n",
    "yhat_test['Holt_Winter'] = hwexp.forecast(len(test))"
   ]
  },
  {
   "cell_type": "code",
   "execution_count": 16,
   "id": "mature-forestry",
   "metadata": {},
   "outputs": [
    {
     "data": {
      "text/html": [
       "<div>\n",
       "<style scoped>\n",
       "    .dataframe tbody tr th:only-of-type {\n",
       "        vertical-align: middle;\n",
       "    }\n",
       "\n",
       "    .dataframe tbody tr th {\n",
       "        vertical-align: top;\n",
       "    }\n",
       "\n",
       "    .dataframe thead th {\n",
       "        text-align: right;\n",
       "    }\n",
       "</style>\n",
       "<table border=\"1\" class=\"dataframe\">\n",
       "  <thead>\n",
       "    <tr style=\"text-align: right;\">\n",
       "      <th></th>\n",
       "      <th>MM-YY</th>\n",
       "      <th>Period</th>\n",
       "      <th>Sales</th>\n",
       "      <th>month</th>\n",
       "      <th>year</th>\n",
       "      <th>sexp</th>\n",
       "      <th>Holt_Winter</th>\n",
       "    </tr>\n",
       "  </thead>\n",
       "  <tbody>\n",
       "    <tr>\n",
       "      <th>33</th>\n",
       "      <td>Apr-12</td>\n",
       "      <td>34</td>\n",
       "      <td>8235</td>\n",
       "      <td>Apr</td>\n",
       "      <td>2012</td>\n",
       "      <td>8951.167903</td>\n",
       "      <td>8013.834288</td>\n",
       "    </tr>\n",
       "    <tr>\n",
       "      <th>34</th>\n",
       "      <td>May-12</td>\n",
       "      <td>35</td>\n",
       "      <td>8055</td>\n",
       "      <td>May</td>\n",
       "      <td>2012</td>\n",
       "      <td>8951.167903</td>\n",
       "      <td>7792.190201</td>\n",
       "    </tr>\n",
       "    <tr>\n",
       "      <th>35</th>\n",
       "      <td>Jun-12</td>\n",
       "      <td>36</td>\n",
       "      <td>7767</td>\n",
       "      <td>Jun</td>\n",
       "      <td>2012</td>\n",
       "      <td>8951.167903</td>\n",
       "      <td>7603.987843</td>\n",
       "    </tr>\n",
       "  </tbody>\n",
       "</table>\n",
       "</div>"
      ],
      "text/plain": [
       "     MM-YY  Period  Sales month  year         sexp  Holt_Winter\n",
       "33  Apr-12      34   8235   Apr  2012  8951.167903  8013.834288\n",
       "34  May-12      35   8055   May  2012  8951.167903  7792.190201\n",
       "35  Jun-12      36   7767   Jun  2012  8951.167903  7603.987843"
      ]
     },
     "execution_count": 16,
     "metadata": {},
     "output_type": "execute_result"
    }
   ],
   "source": [
    "yhat_test"
   ]
  },
  {
   "cell_type": "code",
   "execution_count": 17,
   "id": "naughty-quebec",
   "metadata": {
    "scrolled": false
   },
   "outputs": [
    {
     "data": {
      "text/html": [
       "<table class=\"simpletable\">\n",
       "<caption>ExponentialSmoothing Model Results</caption>\n",
       "<tr>\n",
       "  <th>Dep. Variable:</th>            <td>endog</td>        <th>  No. Observations:  </th>        <td>33</td>       \n",
       "</tr>\n",
       "<tr>\n",
       "  <th>Model:</th>            <td>ExponentialSmoothing</td> <th>  SSE                </th>    <td>2895552.712</td>  \n",
       "</tr>\n",
       "<tr>\n",
       "  <th>Optimized:</th>                <td>True</td>         <th>  AIC                </th>      <td>407.612</td>    \n",
       "</tr>\n",
       "<tr>\n",
       "  <th>Trend:</th>                  <td>Additive</td>       <th>  BIC                </th>      <td>431.556</td>    \n",
       "</tr>\n",
       "<tr>\n",
       "  <th>Seasonal:</th>               <td>Additive</td>       <th>  AICC               </th>      <td>456.469</td>    \n",
       "</tr>\n",
       "<tr>\n",
       "  <th>Seasonal Periods:</th>          <td>12</td>          <th>  Date:              </th> <td>Thu, 21 Oct 2021</td>\n",
       "</tr>\n",
       "<tr>\n",
       "  <th>Box-Cox:</th>                  <td>False</td>        <th>  Time:              </th>     <td>15:15:28</td>    \n",
       "</tr>\n",
       "<tr>\n",
       "  <th>Box-Cox Coeff.:</th>           <td>None</td>         <th>                     </th>         <td> </td>       \n",
       "</tr>\n",
       "</table>\n",
       "<table class=\"simpletable\">\n",
       "<tr>\n",
       "           <td></td>                  <th>coeff</th>                <th>code</th>               <th>optimized</th>     \n",
       "</tr>\n",
       "<tr>\n",
       "  <th>smoothing_level</th>    <td>           0.6682547</td> <td>               alpha</td> <td>                True</td>\n",
       "</tr>\n",
       "<tr>\n",
       "  <th>smoothing_trend</th>    <td>           0.3024300</td> <td>                beta</td> <td>                True</td>\n",
       "</tr>\n",
       "<tr>\n",
       "  <th>smoothing_seasonal</th> <td>           0.2715101</td> <td>               gamma</td> <td>                True</td>\n",
       "</tr>\n",
       "<tr>\n",
       "  <th>initial_level</th>      <td>           4410.6480</td> <td>                 l.0</td> <td>                True</td>\n",
       "</tr>\n",
       "<tr>\n",
       "  <th>initial_trend</th>      <td>          -135.35401</td> <td>                 b.0</td> <td>                True</td>\n",
       "</tr>\n",
       "<tr>\n",
       "  <th>initial_seasons.0</th>  <td>          -1099.2110</td> <td>                 s.0</td> <td>                True</td>\n",
       "</tr>\n",
       "<tr>\n",
       "  <th>initial_seasons.1</th>  <td>          -739.42921</td> <td>                 s.1</td> <td>                True</td>\n",
       "</tr>\n",
       "<tr>\n",
       "  <th>initial_seasons.2</th>  <td>          -419.26249</td> <td>                 s.2</td> <td>                True</td>\n",
       "</tr>\n",
       "<tr>\n",
       "  <th>initial_seasons.3</th>  <td>           167.40432</td> <td>                 s.3</td> <td>                True</td>\n",
       "</tr>\n",
       "<tr>\n",
       "  <th>initial_seasons.4</th>  <td>           1155.8767</td> <td>                 s.4</td> <td>                True</td>\n",
       "</tr>\n",
       "<tr>\n",
       "  <th>initial_seasons.5</th>  <td>           1104.6573</td> <td>                 s.5</td> <td>                True</td>\n",
       "</tr>\n",
       "<tr>\n",
       "  <th>initial_seasons.6</th>  <td>           775.35191</td> <td>                 s.6</td> <td>                True</td>\n",
       "</tr>\n",
       "<tr>\n",
       "  <th>initial_seasons.7</th>  <td>           587.93709</td> <td>                 s.7</td> <td>                True</td>\n",
       "</tr>\n",
       "<tr>\n",
       "  <th>initial_seasons.8</th>  <td>           485.71655</td> <td>                 s.8</td> <td>                True</td>\n",
       "</tr>\n",
       "<tr>\n",
       "  <th>initial_seasons.9</th>  <td>          -544.02539</td> <td>                 s.9</td> <td>                True</td>\n",
       "</tr>\n",
       "<tr>\n",
       "  <th>initial_seasons.10</th> <td>          -850.66798</td> <td>                s.10</td> <td>                True</td>\n",
       "</tr>\n",
       "<tr>\n",
       "  <th>initial_seasons.11</th> <td>          -1110.5958</td> <td>                s.11</td> <td>                True</td>\n",
       "</tr>\n",
       "</table>"
      ],
      "text/plain": [
       "<class 'statsmodels.iolib.summary.Summary'>\n",
       "\"\"\"\n",
       "                       ExponentialSmoothing Model Results                       \n",
       "================================================================================\n",
       "Dep. Variable:                    endog   No. Observations:                   33\n",
       "Model:             ExponentialSmoothing   SSE                        2895552.712\n",
       "Optimized:                         True   AIC                            407.612\n",
       "Trend:                         Additive   BIC                            431.556\n",
       "Seasonal:                      Additive   AICC                           456.469\n",
       "Seasonal Periods:                    12   Date:                 Thu, 21 Oct 2021\n",
       "Box-Cox:                          False   Time:                         15:15:28\n",
       "Box-Cox Coeff.:                    None                                         \n",
       "=================================================================================\n",
       "                          coeff                 code              optimized      \n",
       "---------------------------------------------------------------------------------\n",
       "smoothing_level               0.6682547                alpha                 True\n",
       "smoothing_trend               0.3024300                 beta                 True\n",
       "smoothing_seasonal            0.2715101                gamma                 True\n",
       "initial_level                 4410.6480                  l.0                 True\n",
       "initial_trend                -135.35401                  b.0                 True\n",
       "initial_seasons.0            -1099.2110                  s.0                 True\n",
       "initial_seasons.1            -739.42921                  s.1                 True\n",
       "initial_seasons.2            -419.26249                  s.2                 True\n",
       "initial_seasons.3             167.40432                  s.3                 True\n",
       "initial_seasons.4             1155.8767                  s.4                 True\n",
       "initial_seasons.5             1104.6573                  s.5                 True\n",
       "initial_seasons.6             775.35191                  s.6                 True\n",
       "initial_seasons.7             587.93709                  s.7                 True\n",
       "initial_seasons.8             485.71655                  s.8                 True\n",
       "initial_seasons.9            -544.02539                  s.9                 True\n",
       "initial_seasons.10           -850.66798                 s.10                 True\n",
       "initial_seasons.11           -1110.5958                 s.11                 True\n",
       "---------------------------------------------------------------------------------\n",
       "\"\"\""
      ]
     },
     "execution_count": 17,
     "metadata": {},
     "output_type": "execute_result"
    }
   ],
   "source": [
    "hwexp.summary()"
   ]
  },
  {
   "cell_type": "markdown",
   "id": "boring-sunset",
   "metadata": {},
   "source": [
    "# ARIMA Model"
   ]
  },
  {
   "cell_type": "code",
   "execution_count": 18,
   "id": "phantom-length",
   "metadata": {
    "scrolled": true
   },
   "outputs": [],
   "source": [
    "resdict1 = {\"Sales\":train.Sales,\n",
    "           \"Month\" : train[\"MM-YY\"]\n",
    "          }\n",
    "resids_train = pd.DataFrame(resdict1)\n",
    "resids_train['Month'] = pd.to_datetime(resids_train['Month'],format='%b-%y')\n",
    "resids_train.head()\n",
    "\n",
    "resdict2 = {\"Sales\":yhat_test.Sales,\n",
    "                          \"Month\" : yhat_test[\"MM-YY\"]\n",
    "          }\n",
    "resids_test = pd.DataFrame(resdict2)\n",
    "resids_test['Month'] = pd.to_datetime(resids_test['Month'],format='%b-%y')"
   ]
  },
  {
   "cell_type": "code",
   "execution_count": 19,
   "id": "gorgeous-strike",
   "metadata": {},
   "outputs": [
    {
     "data": {
      "text/html": [
       "<div>\n",
       "<style scoped>\n",
       "    .dataframe tbody tr th:only-of-type {\n",
       "        vertical-align: middle;\n",
       "    }\n",
       "\n",
       "    .dataframe tbody tr th {\n",
       "        vertical-align: top;\n",
       "    }\n",
       "\n",
       "    .dataframe thead th {\n",
       "        text-align: right;\n",
       "    }\n",
       "</style>\n",
       "<table border=\"1\" class=\"dataframe\">\n",
       "  <thead>\n",
       "    <tr style=\"text-align: right;\">\n",
       "      <th></th>\n",
       "      <th>Sales</th>\n",
       "      <th>Month</th>\n",
       "    </tr>\n",
       "  </thead>\n",
       "  <tbody>\n",
       "    <tr>\n",
       "      <th>0</th>\n",
       "      <td>3303</td>\n",
       "      <td>2009-07-01</td>\n",
       "    </tr>\n",
       "    <tr>\n",
       "      <th>1</th>\n",
       "      <td>3360</td>\n",
       "      <td>2009-08-01</td>\n",
       "    </tr>\n",
       "    <tr>\n",
       "      <th>2</th>\n",
       "      <td>3828</td>\n",
       "      <td>2009-09-01</td>\n",
       "    </tr>\n",
       "    <tr>\n",
       "      <th>3</th>\n",
       "      <td>4257</td>\n",
       "      <td>2009-10-01</td>\n",
       "    </tr>\n",
       "    <tr>\n",
       "      <th>4</th>\n",
       "      <td>5508</td>\n",
       "      <td>2009-11-01</td>\n",
       "    </tr>\n",
       "  </tbody>\n",
       "</table>\n",
       "</div>"
      ],
      "text/plain": [
       "   Sales      Month\n",
       "0   3303 2009-07-01\n",
       "1   3360 2009-08-01\n",
       "2   3828 2009-09-01\n",
       "3   4257 2009-10-01\n",
       "4   5508 2009-11-01"
      ]
     },
     "execution_count": 19,
     "metadata": {},
     "output_type": "execute_result"
    }
   ],
   "source": [
    "resids_train.head()"
   ]
  },
  {
   "cell_type": "code",
   "execution_count": 20,
   "id": "sexual-singapore",
   "metadata": {},
   "outputs": [
    {
     "data": {
      "text/html": [
       "<div>\n",
       "<style scoped>\n",
       "    .dataframe tbody tr th:only-of-type {\n",
       "        vertical-align: middle;\n",
       "    }\n",
       "\n",
       "    .dataframe tbody tr th {\n",
       "        vertical-align: top;\n",
       "    }\n",
       "\n",
       "    .dataframe thead th {\n",
       "        text-align: right;\n",
       "    }\n",
       "</style>\n",
       "<table border=\"1\" class=\"dataframe\">\n",
       "  <thead>\n",
       "    <tr style=\"text-align: right;\">\n",
       "      <th></th>\n",
       "      <th>Sales</th>\n",
       "      <th>Month</th>\n",
       "    </tr>\n",
       "  </thead>\n",
       "  <tbody>\n",
       "    <tr>\n",
       "      <th>33</th>\n",
       "      <td>8235</td>\n",
       "      <td>2012-04-01</td>\n",
       "    </tr>\n",
       "    <tr>\n",
       "      <th>34</th>\n",
       "      <td>8055</td>\n",
       "      <td>2012-05-01</td>\n",
       "    </tr>\n",
       "    <tr>\n",
       "      <th>35</th>\n",
       "      <td>7767</td>\n",
       "      <td>2012-06-01</td>\n",
       "    </tr>\n",
       "  </tbody>\n",
       "</table>\n",
       "</div>"
      ],
      "text/plain": [
       "    Sales      Month\n",
       "33   8235 2012-04-01\n",
       "34   8055 2012-05-01\n",
       "35   7767 2012-06-01"
      ]
     },
     "execution_count": 20,
     "metadata": {},
     "output_type": "execute_result"
    }
   ],
   "source": [
    "resids_test.head()"
   ]
  },
  {
   "cell_type": "code",
   "execution_count": 21,
   "id": "atomic-punishment",
   "metadata": {},
   "outputs": [
    {
     "data": {
      "text/plain": [
       "<AxesSubplot:xlabel='Month'>"
      ]
     },
     "execution_count": 21,
     "metadata": {},
     "output_type": "execute_result"
    },
    {
     "data": {
      "image/png": "[encoded data removed]",
      "text/plain": [
       "<Figure size 1080x504 with 1 Axes>"
      ]
     },
     "metadata": {
      "needs_background": "light"
     },
     "output_type": "display_data"
    }
   ],
   "source": [
    "resids_train.set_index('Month',inplace=True)\n",
    "resids_test.set_index('Month',inplace=True)\n",
    "from pylab import rcParams\n",
    "rcParams['figure.figsize'] = 15, 7\n",
    "resids_train.plot()"
   ]
  },
  {
   "cell_type": "code",
   "execution_count": 22,
   "id": "imported-tradition",
   "metadata": {},
   "outputs": [],
   "source": [
    "from statsmodels.tsa.stattools import adfuller"
   ]
  },
  {
   "cell_type": "code",
   "execution_count": 23,
   "id": "formal-tobago",
   "metadata": {},
   "outputs": [
    {
     "name": "stdout",
     "output_type": "stream",
     "text": [
      "ADF Test Statistic : 0.6427534165679696\n",
      "p-value : 0.9886233653758943\n",
      "#Lags Used : 10\n",
      "Number of Observations : 22\n",
      "weak evidence against null hypothesis,indicating it is non-stationary \n"
     ]
    }
   ],
   "source": [
    "def adfuller_test(Residuals):\n",
    "    result=adfuller(Residuals)\n",
    "    labels = ['ADF Test Statistic','p-value','#Lags Used','Number of Observations']\n",
    "    for value,label in zip(result,labels):\n",
    "        print(label+' : '+str(value) )\n",
    "\n",
    "    if result[1] <= 0.05:\n",
    "        print(\"strong evidence against the null hypothesis(Ho), reject the null hypothesis. Data is stationary\")\n",
    "    else:\n",
    "        print(\"weak evidence against null hypothesis,indicating it is non-stationary \")\n",
    "\n",
    "adfuller_test(resids_train['Sales'])"
   ]
  },
  {
   "cell_type": "code",
   "execution_count": 24,
   "id": "standing-eligibility",
   "metadata": {},
   "outputs": [
    {
     "data": {
      "text/html": [
       "<div>\n",
       "<style scoped>\n",
       "    .dataframe tbody tr th:only-of-type {\n",
       "        vertical-align: middle;\n",
       "    }\n",
       "\n",
       "    .dataframe tbody tr th {\n",
       "        vertical-align: top;\n",
       "    }\n",
       "\n",
       "    .dataframe thead th {\n",
       "        text-align: right;\n",
       "    }\n",
       "</style>\n",
       "<table border=\"1\" class=\"dataframe\">\n",
       "  <thead>\n",
       "    <tr style=\"text-align: right;\">\n",
       "      <th></th>\n",
       "      <th>Sales</th>\n",
       "      <th>Sales First Difference</th>\n",
       "    </tr>\n",
       "    <tr>\n",
       "      <th>Month</th>\n",
       "      <th></th>\n",
       "      <th></th>\n",
       "    </tr>\n",
       "  </thead>\n",
       "  <tbody>\n",
       "    <tr>\n",
       "      <th>2009-07-01</th>\n",
       "      <td>3303</td>\n",
       "      <td>NaN</td>\n",
       "    </tr>\n",
       "    <tr>\n",
       "      <th>2009-08-01</th>\n",
       "      <td>3360</td>\n",
       "      <td>57.0</td>\n",
       "    </tr>\n",
       "    <tr>\n",
       "      <th>2009-09-01</th>\n",
       "      <td>3828</td>\n",
       "      <td>468.0</td>\n",
       "    </tr>\n",
       "    <tr>\n",
       "      <th>2009-10-01</th>\n",
       "      <td>4257</td>\n",
       "      <td>429.0</td>\n",
       "    </tr>\n",
       "    <tr>\n",
       "      <th>2009-11-01</th>\n",
       "      <td>5508</td>\n",
       "      <td>1251.0</td>\n",
       "    </tr>\n",
       "  </tbody>\n",
       "</table>\n",
       "</div>"
      ],
      "text/plain": [
       "            Sales  Sales First Difference\n",
       "Month                                    \n",
       "2009-07-01   3303                     NaN\n",
       "2009-08-01   3360                    57.0\n",
       "2009-09-01   3828                   468.0\n",
       "2009-10-01   4257                   429.0\n",
       "2009-11-01   5508                  1251.0"
      ]
     },
     "execution_count": 24,
     "metadata": {},
     "output_type": "execute_result"
    }
   ],
   "source": [
    "resids_train['Sales First Difference'] = resids_train['Sales'] - resids_train['Sales'].shift(1)\n",
    "resids_train.head()"
   ]
  },
  {
   "cell_type": "code",
   "execution_count": 25,
   "id": "polyphonic-nelson",
   "metadata": {},
   "outputs": [
    {
     "name": "stdout",
     "output_type": "stream",
     "text": [
      "ADF Test Statistic : -3.911659856050518\n",
      "p-value : 0.0019506931478679057\n",
      "#Lags Used : 10\n",
      "Number of Observations : 21\n",
      "strong evidence against the null hypothesis(Ho), reject the null hypothesis. Data is stationary\n"
     ]
    }
   ],
   "source": [
    "adfuller_test(resids_train['Sales First Difference'].dropna())"
   ]
  },
  {
   "cell_type": "code",
   "execution_count": 26,
   "id": "supported-clark",
   "metadata": {},
   "outputs": [
    {
     "data": {
      "image/png": "[encoded data removed]",
      "text/plain": [
       "<Figure size 864x576 with 2 Axes>"
      ]
     },
     "metadata": {
      "needs_background": "light"
     },
     "output_type": "display_data"
    }
   ],
   "source": [
    "from statsmodels.graphics.tsaplots import plot_acf,plot_pacf\n",
    "import statsmodels.api as sm\n",
    "fig = plt.figure(figsize=(12,8))\n",
    "ax1 = fig.add_subplot(211)\n",
    "fig = sm.graphics.tsa.plot_acf(resids_train['Sales First Difference'].dropna(),lags=13,ax=ax1)\n",
    "ax2 = fig.add_subplot(212)\n",
    "fig = sm.graphics.tsa.plot_pacf(resids_train['Sales First Difference'].dropna(),lags=13,ax=ax2)"
   ]
  },
  {
   "cell_type": "code",
   "execution_count": 27,
   "id": "forbidden-soldier",
   "metadata": {
    "scrolled": false
   },
   "outputs": [],
   "source": [
    "from statsmodels.tsa.arima_model import ARIMA\n",
    "import statsmodels.api as sm\n",
    "arima = sm.tsa.statespace.SARIMAX(resids_train['Sales'],order=(2,1,0),seasonal_order=(0,1,1,12))\n",
    "arima=arima.fit()"
   ]
  },
  {
   "cell_type": "code",
   "execution_count": 28,
   "id": "muslim-array",
   "metadata": {},
   "outputs": [
    {
     "data": {
      "text/html": [
       "<table class=\"simpletable\">\n",
       "<caption>SARIMAX Results</caption>\n",
       "<tr>\n",
       "  <th>Dep. Variable:</th>                 <td>Sales</td>              <th>  No. Observations:  </th>    <td>33</td>   \n",
       "</tr>\n",
       "<tr>\n",
       "  <th>Model:</th>           <td>SARIMAX(2, 1, 0)x(0, 1, [1], 12)</td> <th>  Log Likelihood     </th> <td>-148.348</td>\n",
       "</tr>\n",
       "<tr>\n",
       "  <th>Date:</th>                    <td>Thu, 21 Oct 2021</td>         <th>  AIC                </th>  <td>304.696</td>\n",
       "</tr>\n",
       "<tr>\n",
       "  <th>Time:</th>                        <td>15:15:29</td>             <th>  BIC                </th>  <td>308.679</td>\n",
       "</tr>\n",
       "<tr>\n",
       "  <th>Sample:</th>                     <td>07-01-2009</td>            <th>  HQIC               </th>  <td>305.473</td>\n",
       "</tr>\n",
       "<tr>\n",
       "  <th></th>                           <td>- 03-01-2012</td>           <th>                     </th>     <td> </td>   \n",
       "</tr>\n",
       "<tr>\n",
       "  <th>Covariance Type:</th>                <td>opg</td>               <th>                     </th>     <td> </td>   \n",
       "</tr>\n",
       "</table>\n",
       "<table class=\"simpletable\">\n",
       "<tr>\n",
       "      <td></td>        <th>coef</th>     <th>std err</th>      <th>z</th>      <th>P>|z|</th>  <th>[0.025</th>    <th>0.975]</th>  \n",
       "</tr>\n",
       "<tr>\n",
       "  <th>ar.L1</th>    <td>   -0.4211</td> <td>    0.279</td> <td>   -1.511</td> <td> 0.131</td> <td>   -0.967</td> <td>    0.125</td>\n",
       "</tr>\n",
       "<tr>\n",
       "  <th>ar.L2</th>    <td>   -0.1573</td> <td>    0.258</td> <td>   -0.611</td> <td> 0.542</td> <td>   -0.662</td> <td>    0.348</td>\n",
       "</tr>\n",
       "<tr>\n",
       "  <th>ma.S.L12</th> <td>   -0.3122</td> <td>    0.648</td> <td>   -0.482</td> <td> 0.630</td> <td>   -1.583</td> <td>    0.959</td>\n",
       "</tr>\n",
       "<tr>\n",
       "  <th>sigma2</th>   <td> 1.592e+05</td> <td> 9.23e+04</td> <td>    1.726</td> <td> 0.084</td> <td>-2.16e+04</td> <td>  3.4e+05</td>\n",
       "</tr>\n",
       "</table>\n",
       "<table class=\"simpletable\">\n",
       "<tr>\n",
       "  <th>Ljung-Box (L1) (Q):</th>     <td>0.05</td> <th>  Jarque-Bera (JB):  </th> <td>0.97</td>\n",
       "</tr>\n",
       "<tr>\n",
       "  <th>Prob(Q):</th>                <td>0.83</td> <th>  Prob(JB):          </th> <td>0.61</td>\n",
       "</tr>\n",
       "<tr>\n",
       "  <th>Heteroskedasticity (H):</th> <td>1.80</td> <th>  Skew:              </th> <td>0.21</td>\n",
       "</tr>\n",
       "<tr>\n",
       "  <th>Prob(H) (two-sided):</th>    <td>0.46</td> <th>  Kurtosis:          </th> <td>2.00</td>\n",
       "</tr>\n",
       "</table><br/><br/>Warnings:<br/>[1] Covariance matrix calculated using the outer product of gradients (complex-step)."
      ],
      "text/plain": [
       "<class 'statsmodels.iolib.summary.Summary'>\n",
       "\"\"\"\n",
       "                                      SARIMAX Results                                       \n",
       "============================================================================================\n",
       "Dep. Variable:                                Sales   No. Observations:                   33\n",
       "Model:             SARIMAX(2, 1, 0)x(0, 1, [1], 12)   Log Likelihood                -148.348\n",
       "Date:                              Thu, 21 Oct 2021   AIC                            304.696\n",
       "Time:                                      15:15:29   BIC                            308.679\n",
       "Sample:                                  07-01-2009   HQIC                           305.473\n",
       "                                       - 03-01-2012                                         \n",
       "Covariance Type:                                opg                                         \n",
       "==============================================================================\n",
       "                 coef    std err          z      P>|z|      [0.025      0.975]\n",
       "------------------------------------------------------------------------------\n",
       "ar.L1         -0.4211      0.279     -1.511      0.131      -0.967       0.125\n",
       "ar.L2         -0.1573      0.258     -0.611      0.542      -0.662       0.348\n",
       "ma.S.L12      -0.3122      0.648     -0.482      0.630      -1.583       0.959\n",
       "sigma2      1.592e+05   9.23e+04      1.726      0.084   -2.16e+04     3.4e+05\n",
       "===================================================================================\n",
       "Ljung-Box (L1) (Q):                   0.05   Jarque-Bera (JB):                 0.97\n",
       "Prob(Q):                              0.83   Prob(JB):                         0.61\n",
       "Heteroskedasticity (H):               1.80   Skew:                             0.21\n",
       "Prob(H) (two-sided):                  0.46   Kurtosis:                         2.00\n",
       "===================================================================================\n",
       "\n",
       "Warnings:\n",
       "[1] Covariance matrix calculated using the outer product of gradients (complex-step).\n",
       "\"\"\""
      ]
     },
     "execution_count": 28,
     "metadata": {},
     "output_type": "execute_result"
    }
   ],
   "source": [
    "arima.summary()"
   ]
  },
  {
   "cell_type": "code",
   "execution_count": 29,
   "id": "digital-eugene",
   "metadata": {},
   "outputs": [
    {
     "data": {
      "text/plain": [
       "<AxesSubplot:xlabel='Month'>"
      ]
     },
     "execution_count": 29,
     "metadata": {},
     "output_type": "execute_result"
    },
    {
     "data": {
      "image/png": "[encoded data removed]",
      "text/plain": [
       "<Figure size 864x576 with 1 Axes>"
      ]
     },
     "metadata": {
      "needs_background": "light"
     },
     "output_type": "display_data"
    }
   ],
   "source": [
    "resids_train['arima']=arima.predict()\n",
    "resids_train[['Sales','arima']].plot(figsize=(12,8))"
   ]
  },
  {
   "cell_type": "code",
   "execution_count": 30,
   "id": "nutritional-treasurer",
   "metadata": {},
   "outputs": [
    {
     "data": {
      "image/png": "[encoded data removed]",
      "text/plain": [
       "<Figure size 864x576 with 2 Axes>"
      ]
     },
     "metadata": {
      "needs_background": "light"
     },
     "output_type": "display_data"
    }
   ],
   "source": [
    "from statsmodels.graphics.tsaplots import plot_acf,plot_pacf\n",
    "\n",
    "fig = plt.figure(figsize=(12,8))\n",
    "ax1 = fig.add_subplot(211)\n",
    "fig = sm.graphics.tsa.plot_acf((resids_train['Sales']- resids_train['arima']).dropna(),lags=13,ax=ax1)\n",
    "ax2 = fig.add_subplot(212)\n",
    "fig = sm.graphics.tsa.plot_pacf((resids_train['Sales']- resids_train['arima']).dropna(),lags=13,ax=ax2)"
   ]
  },
  {
   "cell_type": "code",
   "execution_count": 31,
   "id": "north-generation",
   "metadata": {},
   "outputs": [
    {
     "data": {
      "text/html": [
       "<div>\n",
       "<style scoped>\n",
       "    .dataframe tbody tr th:only-of-type {\n",
       "        vertical-align: middle;\n",
       "    }\n",
       "\n",
       "    .dataframe tbody tr th {\n",
       "        vertical-align: top;\n",
       "    }\n",
       "\n",
       "    .dataframe thead th {\n",
       "        text-align: right;\n",
       "    }\n",
       "</style>\n",
       "<table border=\"1\" class=\"dataframe\">\n",
       "  <thead>\n",
       "    <tr style=\"text-align: right;\">\n",
       "      <th></th>\n",
       "      <th>MM-YY</th>\n",
       "      <th>Period</th>\n",
       "      <th>Sales</th>\n",
       "      <th>month</th>\n",
       "      <th>year</th>\n",
       "      <th>sexp</th>\n",
       "      <th>Holt_Winter</th>\n",
       "      <th>arima</th>\n",
       "    </tr>\n",
       "  </thead>\n",
       "  <tbody>\n",
       "    <tr>\n",
       "      <th>28</th>\n",
       "      <td>Nov-11</td>\n",
       "      <td>29</td>\n",
       "      <td>9051</td>\n",
       "      <td>Nov</td>\n",
       "      <td>2011</td>\n",
       "      <td>7309.724196</td>\n",
       "      <td>9559.828155</td>\n",
       "      <td>9298.577573</td>\n",
       "    </tr>\n",
       "    <tr>\n",
       "      <th>29</th>\n",
       "      <td>Dec-11</td>\n",
       "      <td>30</td>\n",
       "      <td>9696</td>\n",
       "      <td>Dec</td>\n",
       "      <td>2011</td>\n",
       "      <td>7901.757969</td>\n",
       "      <td>9250.336618</td>\n",
       "      <td>9096.685367</td>\n",
       "    </tr>\n",
       "    <tr>\n",
       "      <th>30</th>\n",
       "      <td>Jan-12</td>\n",
       "      <td>31</td>\n",
       "      <td>9594</td>\n",
       "      <td>Jan</td>\n",
       "      <td>2012</td>\n",
       "      <td>8511.800260</td>\n",
       "      <td>9567.305923</td>\n",
       "      <td>9274.825548</td>\n",
       "    </tr>\n",
       "    <tr>\n",
       "      <th>31</th>\n",
       "      <td>Feb-12</td>\n",
       "      <td>32</td>\n",
       "      <td>9084</td>\n",
       "      <td>Feb</td>\n",
       "      <td>2012</td>\n",
       "      <td>8879.748171</td>\n",
       "      <td>9786.442372</td>\n",
       "      <td>9725.189593</td>\n",
       "    </tr>\n",
       "    <tr>\n",
       "      <th>32</th>\n",
       "      <td>Mar-12</td>\n",
       "      <td>33</td>\n",
       "      <td>8955</td>\n",
       "      <td>Mar</td>\n",
       "      <td>2012</td>\n",
       "      <td>8949.193793</td>\n",
       "      <td>9200.383302</td>\n",
       "      <td>9347.272220</td>\n",
       "    </tr>\n",
       "  </tbody>\n",
       "</table>\n",
       "</div>"
      ],
      "text/plain": [
       "     MM-YY  Period  Sales month  year         sexp  Holt_Winter        arima\n",
       "28  Nov-11      29   9051   Nov  2011  7309.724196  9559.828155  9298.577573\n",
       "29  Dec-11      30   9696   Dec  2011  7901.757969  9250.336618  9096.685367\n",
       "30  Jan-12      31   9594   Jan  2012  8511.800260  9567.305923  9274.825548\n",
       "31  Feb-12      32   9084   Feb  2012  8879.748171  9786.442372  9725.189593\n",
       "32  Mar-12      33   8955   Mar  2012  8949.193793  9200.383302  9347.272220"
      ]
     },
     "execution_count": 31,
     "metadata": {},
     "output_type": "execute_result"
    }
   ],
   "source": [
    "yhat_train = train.copy()\n",
    "\n",
    "yhat_train['sexp'] = sexp.fittedvalues\n",
    "yhat_train['Holt_Winter'] = hwexp.fittedvalues\n",
    "yhat_train['arima'] = pd.DataFrame(arima.predict().reset_index(drop=True)).set_index(train.index)\n",
    "yhat_train.tail()"
   ]
  },
  {
   "cell_type": "code",
   "execution_count": 32,
   "id": "imported-baker",
   "metadata": {},
   "outputs": [
    {
     "data": {
      "text/html": [
       "<div>\n",
       "<style scoped>\n",
       "    .dataframe tbody tr th:only-of-type {\n",
       "        vertical-align: middle;\n",
       "    }\n",
       "\n",
       "    .dataframe tbody tr th {\n",
       "        vertical-align: top;\n",
       "    }\n",
       "\n",
       "    .dataframe thead th {\n",
       "        text-align: right;\n",
       "    }\n",
       "</style>\n",
       "<table border=\"1\" class=\"dataframe\">\n",
       "  <thead>\n",
       "    <tr style=\"text-align: right;\">\n",
       "      <th></th>\n",
       "      <th>MM-YY</th>\n",
       "      <th>Period</th>\n",
       "      <th>Sales</th>\n",
       "      <th>month</th>\n",
       "      <th>year</th>\n",
       "    </tr>\n",
       "  </thead>\n",
       "  <tbody>\n",
       "    <tr>\n",
       "      <th>33</th>\n",
       "      <td>Apr-12</td>\n",
       "      <td>34</td>\n",
       "      <td>8235</td>\n",
       "      <td>Apr</td>\n",
       "      <td>2012</td>\n",
       "    </tr>\n",
       "    <tr>\n",
       "      <th>34</th>\n",
       "      <td>May-12</td>\n",
       "      <td>35</td>\n",
       "      <td>8055</td>\n",
       "      <td>May</td>\n",
       "      <td>2012</td>\n",
       "    </tr>\n",
       "    <tr>\n",
       "      <th>35</th>\n",
       "      <td>Jun-12</td>\n",
       "      <td>36</td>\n",
       "      <td>7767</td>\n",
       "      <td>Jun</td>\n",
       "      <td>2012</td>\n",
       "    </tr>\n",
       "  </tbody>\n",
       "</table>\n",
       "</div>"
      ],
      "text/plain": [
       "     MM-YY  Period  Sales month  year\n",
       "33  Apr-12      34   8235   Apr  2012\n",
       "34  May-12      35   8055   May  2012\n",
       "35  Jun-12      36   7767   Jun  2012"
      ]
     },
     "execution_count": 32,
     "metadata": {},
     "output_type": "execute_result"
    }
   ],
   "source": [
    "test"
   ]
  },
  {
   "cell_type": "code",
   "execution_count": 33,
   "id": "certain-emphasis",
   "metadata": {},
   "outputs": [
    {
     "data": {
      "text/plain": [
       "2012-04-01    8109.839170\n",
       "2012-05-01    7871.357706\n",
       "2012-06-01    7763.342445\n",
       "Freq: MS, Name: predicted_mean, dtype: float64"
      ]
     },
     "execution_count": 33,
     "metadata": {},
     "output_type": "execute_result"
    }
   ],
   "source": [
    "arima.forecast(3)"
   ]
  },
  {
   "cell_type": "code",
   "execution_count": 34,
   "id": "ready-playing",
   "metadata": {},
   "outputs": [
    {
     "data": {
      "text/html": [
       "<div>\n",
       "<style scoped>\n",
       "    .dataframe tbody tr th:only-of-type {\n",
       "        vertical-align: middle;\n",
       "    }\n",
       "\n",
       "    .dataframe tbody tr th {\n",
       "        vertical-align: top;\n",
       "    }\n",
       "\n",
       "    .dataframe thead th {\n",
       "        text-align: right;\n",
       "    }\n",
       "</style>\n",
       "<table border=\"1\" class=\"dataframe\">\n",
       "  <thead>\n",
       "    <tr style=\"text-align: right;\">\n",
       "      <th></th>\n",
       "      <th>MM-YY</th>\n",
       "      <th>Period</th>\n",
       "      <th>Sales</th>\n",
       "      <th>month</th>\n",
       "      <th>year</th>\n",
       "      <th>sexp</th>\n",
       "      <th>Holt_Winter</th>\n",
       "      <th>arima</th>\n",
       "    </tr>\n",
       "  </thead>\n",
       "  <tbody>\n",
       "    <tr>\n",
       "      <th>33</th>\n",
       "      <td>Apr-12</td>\n",
       "      <td>34</td>\n",
       "      <td>8235</td>\n",
       "      <td>Apr</td>\n",
       "      <td>2012</td>\n",
       "      <td>8951.167903</td>\n",
       "      <td>8013.834288</td>\n",
       "      <td>8109.839170</td>\n",
       "    </tr>\n",
       "    <tr>\n",
       "      <th>34</th>\n",
       "      <td>May-12</td>\n",
       "      <td>35</td>\n",
       "      <td>8055</td>\n",
       "      <td>May</td>\n",
       "      <td>2012</td>\n",
       "      <td>8951.167903</td>\n",
       "      <td>7792.190201</td>\n",
       "      <td>7871.357706</td>\n",
       "    </tr>\n",
       "    <tr>\n",
       "      <th>35</th>\n",
       "      <td>Jun-12</td>\n",
       "      <td>36</td>\n",
       "      <td>7767</td>\n",
       "      <td>Jun</td>\n",
       "      <td>2012</td>\n",
       "      <td>8951.167903</td>\n",
       "      <td>7603.987843</td>\n",
       "      <td>7763.342445</td>\n",
       "    </tr>\n",
       "  </tbody>\n",
       "</table>\n",
       "</div>"
      ],
      "text/plain": [
       "     MM-YY  Period  Sales month  year         sexp  Holt_Winter        arima\n",
       "33  Apr-12      34   8235   Apr  2012  8951.167903  8013.834288  8109.839170\n",
       "34  May-12      35   8055   May  2012  8951.167903  7792.190201  7871.357706\n",
       "35  Jun-12      36   7767   Jun  2012  8951.167903  7603.987843  7763.342445"
      ]
     },
     "execution_count": 34,
     "metadata": {},
     "output_type": "execute_result"
    }
   ],
   "source": [
    "arimafcst = pd.DataFrame(arima.forecast(3).reset_index(drop=True)).set_index(test.index)\n",
    "yhat_test['arima'] = arimafcst['predicted_mean']\n",
    "yhat_test"
   ]
  },
  {
   "cell_type": "markdown",
   "id": "fancy-hotel",
   "metadata": {},
   "source": [
    "# All Models Summary"
   ]
  },
  {
   "cell_type": "code",
   "execution_count": 37,
   "id": "listed-december",
   "metadata": {},
   "outputs": [],
   "source": [
    "y_out = pd.concat([yhat_train,yhat_test],axis=0)\n",
    "y_out.to_csv(\"Data/Preds.csv\")"
   ]
  },
  {
   "cell_type": "code",
   "execution_count": 38,
   "id": "hispanic-weekly",
   "metadata": {},
   "outputs": [
    {
     "data": {
      "image/png": "[encoded data removed]",
      "text/plain": [
       "<Figure size 1152x576 with 1 Axes>"
      ]
     },
     "metadata": {
      "needs_background": "light"
     },
     "output_type": "display_data"
    }
   ],
   "source": [
    "plt.figure(figsize=(16,8))\n",
    "# plt.title(\"Actual vs Forecast ==> Simple Exp(alpha = 0.34) -|- Holt Winters(alpha = 0.668, beta = 0.302, gamma = 0.272 ) -|- SARIMA (2,1,0) (0,1,1,12)\")\n",
    "\n",
    "# Train Lines\n",
    "plt.plot(y_out['MM-YY'][1:],y_out['Sales'][1:], label='Actual Data',color='black',marker=\".\")\n",
    "plt.plot(y_out['MM-YY'][1:],y_out['sexp'][1:],label='Sim Exp Optimized',color='blue')\n",
    "plt.plot(y_out['MM-YY'][1:],y_out['Holt_Winter'][1:],label='Holt Winters',color='red')\n",
    "plt.plot(y_out['MM-YY'][1:],y_out['arima'][1:],label='SARIMA',color='green')\n",
    "\n",
    "plt.xticks(np.arange(0,36,2))\n",
    "\n",
    "plt.legend(loc='best')\n",
    "plt.show()"
   ]
  },
  {
   "cell_type": "code",
   "execution_count": null,
   "id": "matched-obligation",
   "metadata": {},
   "outputs": [],
   "source": []
  }
 ],
 "metadata": {
  "kernelspec": {
   "display_name": "Python 3",
   "language": "python",
   "name": "python3"
  },
  "language_info": {
   "codemirror_mode": {
    "name": "ipython",
    "version": 3
   },
   "file_extension": ".py",
   "mimetype": "text/x-python",
   "name": "python",
   "nbconvert_exporter": "python",
   "pygments_lexer": "ipython3",
   "version": "3.8.8"
  },
  "toc": {
   "base_numbering": 1,
   "nav_menu": {},
   "number_sections": true,
   "sideBar": true,
   "skip_h1_title": false,
   "title_cell": "Table of Contents",
   "title_sidebar": "Contents",
   "toc_cell": true,
   "toc_position": {
    "height": "calc(100% - 180px)",
    "left": "10px",
    "top": "150px",
    "width": "187px"
   },
   "toc_section_display": true,
   "toc_window_display": true
  }
 },
 "nbformat": 4,
 "nbformat_minor": 5
}
